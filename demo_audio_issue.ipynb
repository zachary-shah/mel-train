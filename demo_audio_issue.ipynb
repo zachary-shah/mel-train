{
 "cells": [
  {
   "cell_type": "code",
   "execution_count": 25,
   "metadata": {},
   "outputs": [],
   "source": [
    "import logging\n",
    "import os\n",
    "import sys\n",
    "from spleeter.separator import Separator\n",
    "from spleeter.audio.adapter import AudioAdapter\n",
    "import soundfile as sf\n",
    "import numpy as np\n",
    "import librosa\n",
    "from PIL import Image, ImageOps\n",
    "from pathlib import Path\n",
    "import pydub\n",
    "\n",
    "import cv2\n",
    "\n",
    "from riffusion.spectrogram_image_converter import SpectrogramImageConverter\n",
    "from riffusion.spectrogram_converter import SpectrogramConverter\n",
    "from riffusion.spectrogram_params import SpectrogramParams\n",
    "\n",
    "sample_audio_path = \"raw-audio/blues.00000.wav\""
   ]
  },
  {
   "cell_type": "code",
   "execution_count": 26,
   "metadata": {},
   "outputs": [
    {
     "name": "stderr",
     "output_type": "stream",
     "text": [
      "c:\\Users\\18nee\\Desktop\\stanford\\wi22\\EE269\\mel-train\\riffusion\\spectrogram_image_converter.py:21: UserWarning: WARNING: cuda is not available, using cpu instead.\n",
      "  self.converter = SpectrogramConverter(params=params, device=device)\n"
     ]
    }
   ],
   "source": [
    "img_converter = SpectrogramImageConverter(SpectrogramParams(min_frequency=0, max_frequency=10000))"
   ]
  },
  {
   "cell_type": "code",
   "execution_count": 31,
   "metadata": {},
   "outputs": [
    {
     "name": "stdout",
     "output_type": "stream",
     "text": [
      "[[ 0.00732422]\n",
      " [ 0.01099474]\n",
      " [ 0.01660156]\n",
      " ...\n",
      " [-0.06466275]\n",
      " [-0.06417847]\n",
      " [-0.06310088]] <class 'numpy.ndarray'>\n"
     ]
    }
   ],
   "source": [
    "audio_loader = AudioAdapter.default()\n",
    "waveform, _ = audio_loader.load(sample_audio_path, sample_rate=44100)\n",
    "print(waveform, type(waveform))\n",
    "song = pydub.AudioSegment(\n",
    "    waveform.tobytes(), \n",
    "    frame_rate=44100,\n",
    "    sample_width=waveform.dtype.itemsize, \n",
    "    channels=1\n",
    ")\n",
    "\n",
    "out_img = img_converter.spectrogram_image_from_audio(song)\n",
    "out_img.save(\"temp_spec.png\")"
   ]
  },
  {
   "cell_type": "code",
   "execution_count": 29,
   "metadata": {},
   "outputs": [
    {
     "data": {
      "text/plain": [
       "<_io.BufferedRandom name='temp_wav.wav'>"
      ]
     },
     "execution_count": 29,
     "metadata": {},
     "output_type": "execute_result"
    }
   ],
   "source": [
    "recon_filepath = \"temp_spec.png\"\n",
    "\n",
    "recon_img =  Image.open(recon_filepath).convert(\"RGB\")\n",
    "\n",
    "img_converter_to_audio = SpectrogramImageConverter(SpectrogramParams(sample_rate=44100, min_frequency=0, max_frequency=10000))\n",
    "\n",
    "out_audio_recon = img_converter_to_audio.audio_from_spectrogram_image(recon_img, apply_filters=True).set_channels(1)\n",
    "out_audio_recon.export(\"temp_wav.wav\", format=\"wav\")"
   ]
  },
  {
   "cell_type": "code",
   "execution_count": null,
   "metadata": {},
   "outputs": [],
   "source": []
  },
  {
   "cell_type": "code",
   "execution_count": null,
   "metadata": {},
   "outputs": [],
   "source": []
  }
 ],
 "metadata": {
  "kernelspec": {
   "display_name": "Python 3",
   "language": "python",
   "name": "python3"
  },
  "language_info": {
   "codemirror_mode": {
    "name": "ipython",
    "version": 3
   },
   "file_extension": ".py",
   "mimetype": "text/x-python",
   "name": "python",
   "nbconvert_exporter": "python",
   "pygments_lexer": "ipython3",
   "version": "3.10.6"
  },
  "orig_nbformat": 4
 },
 "nbformat": 4,
 "nbformat_minor": 2
}
