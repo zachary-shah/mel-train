{
 "cells": [
  {
   "cell_type": "code",
   "execution_count": 71,
   "metadata": {},
   "outputs": [],
   "source": [
    "import os, json\n",
    "import numpy as np\n",
    "import cv2\n",
    "import matplotlib.pyplot as plt\n",
    "from tqdm import tqdm "
   ]
  },
  {
   "cell_type": "code",
   "execution_count": 72,
   "metadata": {},
   "outputs": [
    {
     "name": "stderr",
     "output_type": "stream",
     "text": [
      "  2%|▏         | 2/84 [01:13<50:12, 36.73s/it]"
     ]
    },
    {
     "name": "stdout",
     "output_type": "stream",
     "text": [
      "Problem for conditioning_gs-000500_e-000000_b-000500.png\n"
     ]
    },
    {
     "name": "stderr",
     "output_type": "stream",
     "text": [
      "100%|██████████| 84/84 [51:24<00:00, 36.72s/it]"
     ]
    },
    {
     "name": "stdout",
     "output_type": "stream",
     "text": [
      "All uncorrupted images saved.\n"
     ]
    },
    {
     "name": "stderr",
     "output_type": "stream",
     "text": [
      "\n"
     ]
    }
   ],
   "source": [
    "# where we will save all uncorrupted sources found\n",
    "uncorr_dir = \"image_log/uncorr\"\n",
    "os.makedirs(uncorr_dir,exist_ok=True)\n",
    "\n",
    "# get paths to all corrupted sources in image_log\n",
    "image_log_files = os.listdir(\"image_log\")\n",
    "source_corr_paths_mask = [image_log_files[i].startswith(\"control\") for i in range(len(image_log_files))]\n",
    "source_corr_paths = np.array(image_log_files)[source_corr_paths_mask]\n",
    "\n",
    "# get all paths to training targets\n",
    "train_target_paths = np.array(os.listdir(\"train-data/target\"))\n",
    "\n",
    "# for keeping track of files to match\n",
    "match_table = {}\n",
    "\n",
    "for k in tqdm(range(len(source_corr_paths))):\n",
    "\n",
    "    try:\n",
    "        source_corr_path = source_corr_paths[k]\n",
    "\n",
    "        # where we will save uncorrupted image to\n",
    "        source_uncorr_path = os.path.join(uncorr_dir, source_corr_path)\n",
    "\n",
    "        # target corresponding to corrupted source\n",
    "        target_path = os.path.join(\"image_log\", source_corr_path.replace(\"control\",\"reconstruction\"))\n",
    "        # load target as vector\n",
    "        target = np.array(cv2.cvtColor(cv2.imread(target_path), code=cv2.COLOR_BGR2RGB).ravel(), dtype=float)\n",
    "\n",
    "        # keep track of best match in train targets\n",
    "        best_match_i = -1\n",
    "        best_association = np.inf\n",
    "        for (i,train_target_path) in enumerate(train_target_paths):\n",
    "\n",
    "            # get training target full path\n",
    "            train_target_path = os.path.join(\"train-data/target\", train_target_path)\n",
    "            train_target = np.array(cv2.cvtColor(cv2.imread(train_target_path), code=cv2.COLOR_BGR2RGB).ravel(), dtype=float)\n",
    "\n",
    "            association = np.linalg.norm(target - train_target, 1)\n",
    "            if association < best_association:\n",
    "                best_match_i = i\n",
    "                best_association = association\n",
    "\n",
    "        # read and save best matching uncorruted source\n",
    "        best_match_path = os.path.join(\"train-data/source\", train_target_paths[best_match_i])\n",
    "        best_match = cv2.cvtColor(cv2.imread(best_match_path), code=cv2.COLOR_BGR2RGB)\n",
    "        cv2.imwrite(source_uncorr_path, best_match)\n",
    "\n",
    "        # update match table\n",
    "        match_table[source_corr_path] = best_match_path\n",
    "    except:\n",
    "        print(f\"Problem for {source_corr_paths[k]}\")\n",
    "\n",
    "# save corrleation match table\n",
    "with open(\"image_log/uncorr/corruption_match_table.json\", \"w\") as outfile:\n",
    "    json.dump(match_table, outfile)\n",
    "\n",
    "print(\"All uncorrupted images saved.\")\n"
   ]
  }
 ],
 "metadata": {
  "kernelspec": {
   "display_name": "mel-gen",
   "language": "python",
   "name": "python3"
  },
  "language_info": {
   "codemirror_mode": {
    "name": "ipython",
    "version": 3
   },
   "file_extension": ".py",
   "mimetype": "text/x-python",
   "name": "python",
   "nbconvert_exporter": "python",
   "pygments_lexer": "ipython3",
   "version": "3.8.16"
  },
  "orig_nbformat": 4
 },
 "nbformat": 4,
 "nbformat_minor": 2
}
